{
 "cells": [
  {
   "cell_type": "code",
   "execution_count": 5,
   "id": "93ccc852-4cf2-42ea-87fd-2be8e73b8ddf",
   "metadata": {},
   "outputs": [],
   "source": [
    "#MAINFLOW TASK 1"
   ]
  },
  {
   "cell_type": "code",
   "execution_count": 1,
   "id": "71ef2a13-5b7e-4900-ba42-3571c0e0ac65",
   "metadata": {},
   "outputs": [
    {
     "name": "stdout",
     "output_type": "stream",
     "text": [
      "updated list is: [2, 22, 4, 5, 15]\n"
     ]
    }
   ],
   "source": [
    "#CREATING LIST\n",
    "list=[1,2,3,4,5]\n",
    "#adding an element to the list\n",
    "list.append(15)\n",
    "#removing an element from the list\n",
    "list.remove(1)\n",
    "#modifying a list\n",
    "list[1]=22\n",
    "print(\"updated list is:\",list)"
   ]
  },
  {
   "cell_type": "code",
   "execution_count": 2,
   "id": "9129ec4a-63b4-4c19-b2c9-62dc2217cf5d",
   "metadata": {},
   "outputs": [
    {
     "name": "stdout",
     "output_type": "stream",
     "text": [
      "updated dictionary is: {'name': 'chandana', 'age': 21, 'gender': 'female'}\n"
     ]
    }
   ],
   "source": [
    "#CREATING A DICTIONARY\n",
    "dict={\"name\":\"chandana\",\"age\":20,\"city\":\"AP\",}\n",
    "#adding an key value pair to the list\n",
    "dict[\"gender\"]=\"female\"\n",
    "#removing an key value pair from the list\n",
    "del dict[\"city\"]\n",
    "#modifying an key value pair to the list\n",
    "dict[\"age\"]=21\n",
    "print(\"updated dictionary is:\",dict)"
   ]
  },
  {
   "cell_type": "code",
   "execution_count": 3,
   "id": "0ce22406-cd04-4547-8683-cb6f610d1c94",
   "metadata": {},
   "outputs": [],
   "source": [
    "#CREATING A SET"
   ]
  },
  {
   "cell_type": "code",
   "execution_count": 4,
   "id": "b0408248-3d0e-4d74-aed8-d723389d8f18",
   "metadata": {},
   "outputs": [
    {
     "name": "stdout",
     "output_type": "stream",
     "text": [
      "updated set is: {3, 6, 8, 10}\n"
     ]
    }
   ],
   "source": [
    "set={2,4,6,8}\n",
    "#adding an element to the set\n",
    "set.add(10)\n",
    "#removing an element from the set\n",
    "set.remove(2)\n",
    "#modifying a set\n",
    "set.discard(4)\n",
    "set.add(3)\n",
    "print(\"updated set is:\",set)\n"
   ]
  },
  {
   "cell_type": "code",
   "execution_count": null,
   "id": "1c0a161a-821e-4730-acd4-066badfc1a1e",
   "metadata": {},
   "outputs": [],
   "source": []
  }
 ],
 "metadata": {
  "kernelspec": {
   "display_name": "Python 3 (ipykernel)",
   "language": "python",
   "name": "python3"
  },
  "language_info": {
   "codemirror_mode": {
    "name": "ipython",
    "version": 3
   },
   "file_extension": ".py",
   "mimetype": "text/x-python",
   "name": "python",
   "nbconvert_exporter": "python",
   "pygments_lexer": "ipython3",
   "version": "3.11.7"
  }
 },
 "nbformat": 4,
 "nbformat_minor": 5
}
